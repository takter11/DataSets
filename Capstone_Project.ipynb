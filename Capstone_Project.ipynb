{
  "nbformat": 4,
  "nbformat_minor": 0,
  "metadata": {
    "colab": {
      "name": "Capstone Project.ipynb",
      "provenance": [],
      "collapsed_sections": [],
      "authorship_tag": "ABX9TyP19S1gw0Ayt/wP6fseVv1F",
      "include_colab_link": true
    },
    "kernelspec": {
      "name": "python3",
      "display_name": "Python 3"
    }
  },
  "cells": [
    {
      "cell_type": "markdown",
      "metadata": {
        "id": "view-in-github",
        "colab_type": "text"
      },
      "source": [
        "<a href=\"https://colab.research.google.com/github/takter11/DataSets/blob/master/Capstone_Project.ipynb\" target=\"_parent\"><img src=\"https://colab.research.google.com/assets/colab-badge.svg\" alt=\"Open In Colab\"/></a>"
      ]
    },
    {
      "cell_type": "code",
      "metadata": {
        "colab_type": "code",
        "id": "v0OicyKrgp_a",
        "colab": {
          "base_uri": "https://localhost:8080/",
          "height": 128
        },
        "outputId": "74e656b2-d233-4542-d86e-02ecdecaea42"
      },
      "source": [
        "import pandas as pd\n",
        "import numpy as np\n",
        "import matplotlib.pyplot as plt\n",
        "import seaborn as sns\n",
        "%matplotlib inline\n",
        "\n",
        "import datetime as dt\n",
        "import math\n",
        "import statsmodels.api as sm\n",
        "\n",
        "missing_values=['na','N/A','NA',' ','-','--']\n",
        "# Import Data\n",
        "#https://github.com/CunyLaguardiaDataAnalytics/datasets/blob/master/10000%20Sales%20Records.csv\n",
        "df = pd.read_csv('https://raw.githubusercontent.com/CunyLaguardiaDataAnalytics/datasets/master/10000%20Sales%20Records.csv')\n",
        "df\n",
        "# Added a new column ' Unit Profit'\n",
        "df['Unit Profit']=df['Unit Price']-df['Unit Cost']\n",
        "df['Total Profit'].mean()\n",
        "# Sort out the data where Total Profit grater than mean value of Total profit\n",
        "HighProfit=df[(df['Total Profit']>395089.34719300084)]\n",
        "# Showing Total Profit(more than average profit) by Item Type\n",
        "dfitem=HighProfit.groupby(['Country','Item Type','Region'])['Total Profit'].mean().reset_index()\n",
        "g1 = sns.catplot(x='Item Type', y='Total Profit', hue='Region',\n",
        "                                 data=dfitem, kind='bar',palette=sns.color_palette(),  legend_out=False)\n",
        "plt.subplots_adjust(top=.9)\n",
        "g1.fig.suptitle('Total Profit on Item Type \\nBy Region')\n",
        "g1.set_xticklabels(rotation=50)\n",
        "g1.set_axis_labels('Item Type')\n",
        "plt.show(g1)\n",
        "# Comments: Total Profit perspective, 'Household' is our most profitable item type and region is 'Sub Saharan Africa',\n",
        "           # Second highest profitable item is 'Cosmetics' and region is 'Europe'.\n",
        "\n",
        "# Now I want to see profitable item type on unit profit by region\n",
        "dfunitprofit=df.groupby(['Country','Item Type','Region'])['Unit Profit'].mean().reset_index()\n",
        "g2 = sns.catplot(x='Item Type', y='Unit Profit', hue='Region',\n",
        "                                 data=dfunitprofit, kind='bar',palette=sns.color_palette(),  legend_out=False)\n",
        "plt.subplots_adjust(top=.9)\n",
        "g2.fig.suptitle('Unit Profit on Item Type \\nBy Region')\n",
        "g2.set_xticklabels(rotation=50)\n",
        "g2.set_axis_labels('Item Type')\n",
        "plt.show(g2)\n",
        "# Comments: Unit Profit perspective, Our most profitable item is 'Cosmetics' and region is 'Europe' and \n",
        "            #second highest profitable item is 'Household' and region is 'Sub Saharan Africa'\n",
        "\n",
        "df\n",
        "\n",
        "#from interactiveplot import plot_ss\n",
        "df = pd.read_csv('https://raw.githubusercontent.com/CunyLaguardiaDataAnalytics/datasets/master/10000%20Sales%20Records.csv')\n",
        "\n",
        "df.Total Profit.corr(df.Units Sold)\n",
        "#plot_ss(df.Units Sold, df.Total profit)\n",
        "sns.scatterplot(x='Units Sold',y='Total Profit', data=df)\n",
        "sns.regplot(x='Units Sold', y='Total Profit', data=df)\n",
        "# Fit a linear model using statsmodels (sm) OLS method. \n",
        "model = sm.OLS(df.Units Sold, sm.add_constant(df.TotaldProfit))\n",
        "\n",
        "                 \n",
        "\n",
        "          \n",
        "\n",
        "\n",
        "\n",
        "\n",
        "\n",
        "\n",
        "\n",
        "\n",
        "\n",
        "\n",
        "\n",
        "\n",
        "\n",
        "\n",
        "\n",
        "\n",
        "\n",
        "\n"
      ],
      "execution_count": 12,
      "outputs": [
        {
          "output_type": "error",
          "ename": "SyntaxError",
          "evalue": "ignored",
          "traceback": [
            "\u001b[0;36m  File \u001b[0;32m\"<ipython-input-12-6fd8d74fb8c6>\"\u001b[0;36m, line \u001b[0;32m49\u001b[0m\n\u001b[0;31m    df.Total Profit.corr(df.Units Sold)\u001b[0m\n\u001b[0m                  ^\u001b[0m\n\u001b[0;31mSyntaxError\u001b[0m\u001b[0;31m:\u001b[0m invalid syntax\n"
          ]
        }
      ]
    },
    {
      "cell_type": "code",
      "metadata": {
        "id": "P70OuKhYZrOm",
        "colab_type": "code",
        "colab": {}
      },
      "source": [
        ""
      ],
      "execution_count": null,
      "outputs": []
    }
  ]
}